{
 "cells": [
  {
   "cell_type": "markdown",
   "id": "0df05184",
   "metadata": {},
   "source": [
    "## different types of print statements"
   ]
  },
  {
   "cell_type": "markdown",
   "id": "fce70f3d",
   "metadata": {},
   "source": [
    "**print()** keyword is used to print a message encountered in double quotes"
   ]
  },
  {
   "cell_type": "code",
   "execution_count": 4,
   "id": "8da319eb",
   "metadata": {},
   "outputs": [
    {
     "name": "stdout",
     "output_type": "stream",
     "text": [
      "start learning python\n"
     ]
    }
   ],
   "source": [
    "print(\"start learning python\")"
   ]
  },
  {
   "cell_type": "markdown",
   "id": "0126d064",
   "metadata": {},
   "source": [
    "## using **sep** keyword "
   ]
  },
  {
   "cell_type": "markdown",
   "id": "2e02f1de",
   "metadata": {},
   "source": [
    "**sep keyword** is to format the printed statements in output screen"
   ]
  },
  {
   "cell_type": "code",
   "execution_count": 5,
   "id": "880127f5",
   "metadata": {},
   "outputs": [
    {
     "name": "stdout",
     "output_type": "stream",
     "text": [
      "this notebook contains python basics\n"
     ]
    }
   ],
   "source": [
    "\n",
    "print(\"this\",\"notebook\", \"contains\", \"python\", \"basics\")"
   ]
  },
  {
   "cell_type": "code",
   "execution_count": 18,
   "id": "9835b560",
   "metadata": {},
   "outputs": [
    {
     "name": "stdout",
     "output_type": "stream",
     "text": [
      "this,notebook,contains,python,basics\n",
      "\n",
      "this\n",
      "notebook\n",
      "contains\n",
      "python\n",
      "basics\n"
     ]
    }
   ],
   "source": [
    "#comma seperated \n",
    "print(\"this\",\"notebook\", \"contains\", \"python\", \"basics\" ,sep=\",\")\n",
    "print()\n",
    "# \\n is used to print newline\n",
    "print(\"this\",\"notebook\", \"contains\", \"python\", \"basics\" ,sep=\"\\n\")"
   ]
  },
  {
   "cell_type": "code",
   "execution_count": 13,
   "id": "cefeca35",
   "metadata": {},
   "outputs": [
    {
     "name": "stdout",
     "output_type": "stream",
     "text": [
      "10\n",
      "20\n"
     ]
    }
   ],
   "source": [
    "# In python print statement ends with a new line\n",
    "a = 10 \n",
    "b = 20\n",
    "print(a)\n",
    "print(b)"
   ]
  },
  {
   "cell_type": "markdown",
   "id": "d24dc7dc",
   "metadata": {},
   "source": [
    "## using  **end** keyword "
   ]
  },
  {
   "cell_type": "markdown",
   "id": "d5f29810",
   "metadata": {},
   "source": [
    " we use **end keyword** to sepecify with which parameter a print statement should end"
   ]
  },
  {
   "cell_type": "code",
   "execution_count": 20,
   "id": "f95457f0",
   "metadata": {},
   "outputs": [
    {
     "name": "stdout",
     "output_type": "stream",
     "text": [
      "10 20\n",
      "10 $ 20\n"
     ]
    }
   ],
   "source": [
    "\n",
    "\n",
    "#print statement ends with a space\n",
    "a = 10 \n",
    "b = 20\n",
    "print(a , end = \" \")\n",
    "print(b)\n",
    "\n",
    "#print statement ending with $ symbol\n",
    "a = 10 \n",
    "b = 20\n",
    "print(a , end = \" $ \")\n",
    "print(b)\n"
   ]
  },
  {
   "cell_type": "markdown",
   "id": "f86c0971",
   "metadata": {},
   "source": [
    "## python .format() method"
   ]
  },
  {
   "cell_type": "markdown",
   "id": "c1fb3a6c",
   "metadata": {},
   "source": [
    " **format()** method formats the  value and insert them inside the string's placeholder.\n",
    "The placeholder is defined using curly brackets {}.."
   ]
  },
  {
   "cell_type": "code",
   "execution_count": 34,
   "id": "500c1aac",
   "metadata": {},
   "outputs": [
    {
     "name": "stdout",
     "output_type": "stream",
     "text": [
      "prasanna is studying b_tech\n"
     ]
    }
   ],
   "source": [
    "name = \"prasanna\"\n",
    "study = \"b_tech\"\n",
    "print( \"{} is studying {}\".format(name,study))"
   ]
  },
  {
   "cell_type": "markdown",
   "id": "1ddea83e",
   "metadata": {},
   "source": [
    "###### using positional index\n"
   ]
  },
  {
   "cell_type": "code",
   "execution_count": 36,
   "id": "0fba58a8",
   "metadata": {},
   "outputs": [
    {
     "name": "stdout",
     "output_type": "stream",
     "text": [
      "qualified students are prasanna,sneha\n"
     ]
    }
   ],
   "source": [
    "print(\"qualified students are {0},{2}\".format(\"prasanna\",\"neha\", \"sneha\"))"
   ]
  },
  {
   "cell_type": "code",
   "execution_count": 37,
   "id": "0c6fd29a",
   "metadata": {},
   "outputs": [
    {
     "name": "stdout",
     "output_type": "stream",
     "text": [
      "The 3rd, 4th and 5th ranks are winners\n"
     ]
    }
   ],
   "source": [
    "print(\"The 3{r}, 4{t} and 5{t} ranks are winners\".format(r='rd',t='th'))"
   ]
  },
  {
   "cell_type": "markdown",
   "id": "56c3735b",
   "metadata": {},
   "source": [
    "## using %"
   ]
  },
  {
   "cell_type": "code",
   "execution_count": null,
   "id": "a43dbdcb",
   "metadata": {},
   "outputs": [],
   "source": [
    "tup = (1,2,3)\n",
    "2is is a tuple %s\" % (tup, ))"
   ]
  }
 ],
 "metadata": {
  "kernelspec": {
   "display_name": "Python 3",
   "language": "python",
   "name": "python3"
  },
  "language_info": {
   "codemirror_mode": {
    "name": "ipython",
    "version": 3
   },
   "file_extension": ".py",
   "mimetype": "text/x-python",
   "name": "python",
   "nbconvert_exporter": "python",
   "pygments_lexer": "ipython3",
   "version": "3.8.8"
  }
 },
 "nbformat": 4,
 "nbformat_minor": 5
}
